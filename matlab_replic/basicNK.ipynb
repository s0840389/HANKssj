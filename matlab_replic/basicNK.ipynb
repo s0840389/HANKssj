{
 "cells": [
  {
   "attachments": {},
   "cell_type": "markdown",
   "metadata": {},
   "source": [
    "Placeholder HANK code for DC housing model\n",
    "\n"
   ]
  },
  {
   "cell_type": "code",
   "execution_count": 7,
   "metadata": {},
   "outputs": [],
   "source": [
    "import numpy as np\n",
    "from numba import njit\n",
    "import matplotlib.pyplot as plt\n",
    "from copy import deepcopy\n",
    "import importlib\n",
    "\n",
    "# import sequence_jacobian as sj\n",
    "\n",
    "from sequence_jacobian import grids, interpolate,simple, create_model, solved\n",
    "from sequence_jacobian.blocks.stage_block import StageBlock\n",
    "from sequence_jacobian.blocks.support.stages import Continuous1D, ExogenousMaker, LogitChoice"
   ]
  },
  {
   "cell_type": "code",
   "execution_count": 8,
   "metadata": {},
   "outputs": [],
   "source": [
    "# key parameters \n",
    "\n",
    "cali = dict()\n",
    "\n",
    "cali = {'beta': 0.96, 'Z':1.0 ,'Y':1.0, 'pi':0.00,'psi':2.0, 'sig':2.0,'mu':1.2,'pkappa':0.1,'phi': 1.5,'rhor':0.8,'epsr':0.0}\n"
   ]
  },
  {
   "cell_type": "code",
   "execution_count": 9,
   "metadata": {},
   "outputs": [
    {
     "name": "stdout",
     "output_type": "stream",
     "text": [
      "0.8333333333333334\n"
     ]
    }
   ],
   "source": [
    "# steady state \n",
    "\n",
    "@simple\n",
    "def simpleSS(beta,Y,Z,mu,phil,psi,sig):\n",
    "    rstar=1/beta-1\n",
    "    C=Y\n",
    "    N=Y/Z\n",
    "    i=rstar\n",
    "    w=Z/mu\n",
    "    mc=w/Z\n",
    "    w_res=w-phil*(N**psi)/(C**(-sig))\n",
    "\n",
    "    return i,C,rstar,w,N,w_res,mc\n",
    "\n",
    "\n",
    "blocks_ss = [simpleSS]\n",
    "\n",
    "nk_ss = create_model(blocks_ss, name=\"Simple NK SS\")\n",
    "\n",
    "unknowns_ss = {'phil': 0.8}\n",
    "targets_ss = {'w_res': 0}\n",
    "\n",
    "ss0 = nk_ss.solve_steady_state(cali, unknowns_ss, targets_ss, solver=\"hybr\")\n",
    "\n",
    "print(ss0['phil'])\n"
   ]
  },
  {
   "cell_type": "code",
   "execution_count": 10,
   "metadata": {},
   "outputs": [],
   "source": [
    "# dynamics\n",
    "T=200\n",
    "unknowns = ['C']\n",
    "targets = ['euler_res']\n",
    "exogenous = ['Z','epsr']\n",
    "\n",
    "@simple\n",
    "def Firm(C,Z,phil,psi,sig):\n",
    "    Y=C\n",
    "    N=Y/Z\n",
    "    w=phil*(N**psi)/(C**(-sig))\n",
    "    mc=w/Z\n",
    "    return Y,N,w,mc\n",
    "\n",
    "@solved(unknowns={'pi':ss0['pi']},targets=['nkpc_res'],solver='brent')\n",
    "def nkpc(pi,mc,mu,beta,pkappa):\n",
    "    nkpc_res=pi-beta*pi(+1)-pkappa*(mc-1/mu)\n",
    "    return nkpc_res\n",
    "\n",
    "\n",
    "\n",
    "@solved(unknowns={'i':ss0['rstar']},targets=['i_res'],solver='brent')\n",
    "def Taylor(i,pi, rstar, phi,rhor,epsr):\n",
    "    i_res=(1-rhor)*(rstar+phi*pi)+rhor*(i(-1))+epsr-i # Taylor Rule\n",
    "    return i_res\n",
    "\n",
    "@simple\n",
    "def Euler(C,beta,sig,pi,i):\n",
    "    euler_res=C**(-sig)-beta*C(+1)**(-sig)*(1+i(-1))/(1+pi)\n",
    "    return euler_res\n",
    "\n",
    "blocks=[Firm,nkpc,Taylor,Euler]\n",
    "#blocks=[Firm,nkpc,Taylor2,laggedvars,Euler]\n",
    "nkmodel=create_model(blocks, name=\"Simple NK\")\n",
    "\n",
    "G = nkmodel.solve_jacobian(ss0, unknowns, targets, exogenous, T=T)\n",
    "\n"
   ]
  },
  {
   "cell_type": "code",
   "execution_count": 11,
   "metadata": {},
   "outputs": [
    {
     "data": {
      "image/png": "[encoded data removed]",
      "text/plain": [
       "<Figure size 640x480 with 4 Axes>"
      ]
     },
     "metadata": {},
     "output_type": "display_data"
    }
   ],
   "source": [
    "# Impulse responses\n",
    "\n",
    "rshock=np.zeros([T,1])\n",
    "rshock[0]=1\n",
    "\n",
    "irflist=['Y','pi','i','w']\n",
    "\n",
    "\n",
    "fgirf,ax = plt.subplots(2,2)\n",
    "iter=0\n",
    "for x in irflist:\n",
    "    ax[np.unravel_index(iter,[2,2],order='F')].plot((G[x]['epsr']@rshock)[0:T])\n",
    "    ax[np.unravel_index(iter,[2,2],order='F')].set_title(x)\n",
    "    iter=iter+1\n",
    "\n"
   ]
  },
  {
   "cell_type": "code",
   "execution_count": 12,
   "metadata": {},
   "outputs": [
    {
     "data": {
      "text/plain": [
       "1.5"
      ]
     },
     "execution_count": 12,
     "metadata": {},
     "output_type": "execute_result"
    }
   ],
   "source": [
    " "
   ]
  }
 ],
 "metadata": {
  "kernelspec": {
   "display_name": "base",
   "language": "python",
   "name": "python3"
  },
  "language_info": {
   "codemirror_mode": {
    "name": "ipython",
    "version": 3
   },
   "file_extension": ".py",
   "mimetype": "text/x-python",
   "name": "python",
   "nbconvert_exporter": "python",
   "pygments_lexer": "ipython3",
   "version": "3.9.13"
  },
  "orig_nbformat": 4
 },
 "nbformat": 4,
 "nbformat_minor": 2
}
